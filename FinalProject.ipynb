{
 "cells": [
  {
   "cell_type": "markdown",
   "metadata": {},
   "source": [
    "# Final Project - Team Monarch 2.0\n",
    "## SDM Visualization\n",
    "\n",
    "#### An interactive system to display species distribution models along with animated gifs for each species (to show migration patterns) and biodiversity maps of North American butterflies."
   ]
  },
  {
   "cell_type": "markdown",
   "metadata": {},
   "source": [
    "## Requirements\n",
    "\n",
    "#### The widgets displayed in the system may not show up in your Jupyter Notebook without first installing ipywidgets and enabling the extensions. Use the commands listed below to install ipywidgets and enable extensions:\n",
    "```\n",
    "pip install ipywidgets\n",
    "jupyter nbextension enable --py widgetsnbextension\n",
    "OR\n",
    "jupyter nbextension enable --py --sys-prefix widgetsnbextension\n",
    "```"
   ]
  },
  {
   "cell_type": "markdown",
   "metadata": {},
   "source": [
    "## Setup"
   ]
  },
  {
   "cell_type": "code",
   "execution_count": 1,
   "metadata": {},
   "outputs": [],
   "source": [
    "# Import required libraries.\n",
    "\n",
    "import glob, os\n",
    "import imageio\n",
    "import ipywidgets as wg\n",
    "import matplotlib.pyplot as plt\n",
    "\n",
    "from PIL import Image as im\n",
    "from IPython.display import Image\n",
    "from IPython.display import display\n",
    "from PIL import ImageFont, ImageDraw \n",
    "from __future__ import print_function\n",
    "from ipywidgets import interact, interactive, fixed, interact_manual"
   ]
  },
  {
   "cell_type": "markdown",
   "metadata": {},
   "source": [
    "## Interactive GUI (User Input)"
   ]
  },
  {
   "cell_type": "markdown",
   "metadata": {},
   "source": [
    "### Single SDM + Animated SDM Display\n",
    "\n",
    "#### The output shows the expected SDM along with 9 possible animations of the species' SDMs over all the months for each algorithm/prediction threshold combination.\n",
    "\n",
    "#### Usage: Enter name of species, algorithm, prediction threshold, month and animation speed preference.\n",
    "\n",
    "#### Note: When the input values to the GUI are changed, there is no need to press Enter. Once the next cell is executed, the values in the GUI are registered and appropriately saved."
   ]
  },
  {
   "cell_type": "code",
   "execution_count": 2,
   "metadata": {},
   "outputs": [
    {
     "data": {
      "application/vnd.jupyter.widget-view+json": {
       "model_id": "5be559783ad949ed9bc747250db5217c",
       "version_major": 2,
       "version_minor": 0
      },
      "text/html": [
       "<p>Failed to display Jupyter Widget of type <code>Text</code>.</p>\n",
       "<p>\n",
       "  If you're reading this message in the Jupyter Notebook or JupyterLab Notebook, it may mean\n",
       "  that the widgets JavaScript is still loading. If this message persists, it\n",
       "  likely means that the widgets JavaScript library is either not installed or\n",
       "  not enabled. See the <a href=\"https://ipywidgets.readthedocs.io/en/stable/user_install.html\">Jupyter\n",
       "  Widgets Documentation</a> for setup instructions.\n",
       "</p>\n",
       "<p>\n",
       "  If you're reading this message in another frontend (for example, a static\n",
       "  rendering on GitHub or <a href=\"https://nbviewer.jupyter.org/\">NBViewer</a>),\n",
       "  it may mean that your frontend doesn't currently support widgets.\n",
       "</p>\n"
      ],
      "text/plain": [
       "Text(value='Name', description='Species: ', style=DescriptionStyle(description_width='initial'))"
      ]
     },
     "metadata": {},
     "output_type": "display_data"
    },
    {
     "data": {
      "application/vnd.jupyter.widget-view+json": {
       "model_id": "161e0f359fe14b8fb3c03b6f2b10c782",
       "version_major": 2,
       "version_minor": 0
      },
      "text/html": [
       "<p>Failed to display Jupyter Widget of type <code>Dropdown</code>.</p>\n",
       "<p>\n",
       "  If you're reading this message in the Jupyter Notebook or JupyterLab Notebook, it may mean\n",
       "  that the widgets JavaScript is still loading. If this message persists, it\n",
       "  likely means that the widgets JavaScript library is either not installed or\n",
       "  not enabled. See the <a href=\"https://ipywidgets.readthedocs.io/en/stable/user_install.html\">Jupyter\n",
       "  Widgets Documentation</a> for setup instructions.\n",
       "</p>\n",
       "<p>\n",
       "  If you're reading this message in another frontend (for example, a static\n",
       "  rendering on GitHub or <a href=\"https://nbviewer.jupyter.org/\">NBViewer</a>),\n",
       "  it may mean that your frontend doesn't currently support widgets.\n",
       "</p>\n"
      ],
      "text/plain": [
       "Dropdown(description='Algorithm: ', options=('CTA', 'GLM', 'RF'), style=DescriptionStyle(description_width='initial'), value='CTA')"
      ]
     },
     "metadata": {},
     "output_type": "display_data"
    },
    {
     "data": {
      "application/vnd.jupyter.widget-view+json": {
       "model_id": "602912a073da4cb68156cd017cbaa01c",
       "version_major": 2,
       "version_minor": 0
      },
      "text/html": [
       "<p>Failed to display Jupyter Widget of type <code>Dropdown</code>.</p>\n",
       "<p>\n",
       "  If you're reading this message in the Jupyter Notebook or JupyterLab Notebook, it may mean\n",
       "  that the widgets JavaScript is still loading. If this message persists, it\n",
       "  likely means that the widgets JavaScript library is either not installed or\n",
       "  not enabled. See the <a href=\"https://ipywidgets.readthedocs.io/en/stable/user_install.html\">Jupyter\n",
       "  Widgets Documentation</a> for setup instructions.\n",
       "</p>\n",
       "<p>\n",
       "  If you're reading this message in another frontend (for example, a static\n",
       "  rendering on GitHub or <a href=\"https://nbviewer.jupyter.org/\">NBViewer</a>),\n",
       "  it may mean that your frontend doesn't currently support widgets.\n",
       "</p>\n"
      ],
      "text/plain": [
       "Dropdown(description='Prediction Threshold: ', options=('1', '10', '50'), style=DescriptionStyle(description_width='initial'), value='1')"
      ]
     },
     "metadata": {},
     "output_type": "display_data"
    },
    {
     "data": {
      "application/vnd.jupyter.widget-view+json": {
       "model_id": "1e1488f4ea5c4067af24eaf6a37b3e82",
       "version_major": 2,
       "version_minor": 0
      },
      "text/html": [
       "<p>Failed to display Jupyter Widget of type <code>SelectionSlider</code>.</p>\n",
       "<p>\n",
       "  If you're reading this message in the Jupyter Notebook or JupyterLab Notebook, it may mean\n",
       "  that the widgets JavaScript is still loading. If this message persists, it\n",
       "  likely means that the widgets JavaScript library is either not installed or\n",
       "  not enabled. See the <a href=\"https://ipywidgets.readthedocs.io/en/stable/user_install.html\">Jupyter\n",
       "  Widgets Documentation</a> for setup instructions.\n",
       "</p>\n",
       "<p>\n",
       "  If you're reading this message in another frontend (for example, a static\n",
       "  rendering on GitHub or <a href=\"https://nbviewer.jupyter.org/\">NBViewer</a>),\n",
       "  it may mean that your frontend doesn't currently support widgets.\n",
       "</p>\n"
      ],
      "text/plain": [
       "SelectionSlider(description='Month: ', options=('jan', 'feb', 'mar', 'apr', 'may', 'jun', 'jul', 'aug', 'sep', 'oct', 'nov', 'dec', 'all'), style=DescriptionStyle(description_width='initial'), value='jan')"
      ]
     },
     "metadata": {},
     "output_type": "display_data"
    },
    {
     "data": {
      "application/vnd.jupyter.widget-view+json": {
       "model_id": "e003baa84c924c47a21f7d4de9fb52e6",
       "version_major": 2,
       "version_minor": 0
      },
      "text/html": [
       "<p>Failed to display Jupyter Widget of type <code>FloatSlider</code>.</p>\n",
       "<p>\n",
       "  If you're reading this message in the Jupyter Notebook or JupyterLab Notebook, it may mean\n",
       "  that the widgets JavaScript is still loading. If this message persists, it\n",
       "  likely means that the widgets JavaScript library is either not installed or\n",
       "  not enabled. See the <a href=\"https://ipywidgets.readthedocs.io/en/stable/user_install.html\">Jupyter\n",
       "  Widgets Documentation</a> for setup instructions.\n",
       "</p>\n",
       "<p>\n",
       "  If you're reading this message in another frontend (for example, a static\n",
       "  rendering on GitHub or <a href=\"https://nbviewer.jupyter.org/\">NBViewer</a>),\n",
       "  it may mean that your frontend doesn't currently support widgets.\n",
       "</p>\n"
      ],
      "text/plain": [
       "FloatSlider(value=0.5, description='Animation Speed:', max=1.0, style=SliderStyle(description_width='initial'))"
      ]
     },
     "metadata": {},
     "output_type": "display_data"
    }
   ],
   "source": [
    "# Set initial style of the interactive GUI.\n",
    "\n",
    "style = {'description_width': 'initial'}\n",
    "\n",
    "# Initialize the elements of the GUI.\n",
    "\n",
    "name = wg.Text(value='Name', description=\"Species: \", style=style)\n",
    "algo = wg.Dropdown(options = [\"CTA\", \"GLM\", \"RF\"], description=\"Algorithm: \", style=style)\n",
    "threshold = wg.Dropdown(options = ['1', '10', '50'], description=\"Prediction Threshold: \", style=style)\n",
    "month = wg.SelectionSlider(description=\"Month: \", options=['jan', 'feb', 'mar', 'apr', 'may', 'jun', 'jul', 'aug', 'sep', 'oct', 'nov', 'dec', 'all'], style=style)\n",
    "speed = wg.FloatSlider(value=.5,min=0,max=1.0,step=0.1,description='Animation Speed:',style=style)\n",
    "\n",
    "# Display the GUI.\n",
    "\n",
    "display(name, algo, threshold, month, speed)"
   ]
  },
  {
   "cell_type": "markdown",
   "metadata": {},
   "source": [
    "#### The following code block displays SDM maps for the user entered input. "
   ]
  },
  {
   "cell_type": "code",
   "execution_count": 3,
   "metadata": {},
   "outputs": [
    {
     "name": "stdout",
     "output_type": "stream",
     "text": [
      "----------------------------------------\n",
      "Species:  Papilio_glaucus\n",
      "Algorithm:  CTA\n",
      "Prediction Threshold:  10\n",
      "Month:  dec\n",
      "----------------------------------------\n"
     ]
    },
    {
     "data": {
      "image/png": "[encoded data removed]",
      "text/plain": [
       "<matplotlib.figure.Figure at 0x1d0cfa032e8>"
      ]
     },
     "metadata": {},
     "output_type": "display_data"
    }
   ],
   "source": [
    "# Initialize the filename for each SDM.\n",
    "\n",
    "filename = \"./SDMs/\" + name.value + \"/\" + month.value + \"/\" + algo.value + \"-\" + threshold.value + \".png\"\n",
    "\n",
    "# Check for file existence and then display the map (with a title).\n",
    "\n",
    "if os.path.isfile(filename):\n",
    "    print('----------------------------------------')\n",
    "    print('Species: ', name.value)\n",
    "    print('Algorithm: ', algo.value)\n",
    "    print('Prediction Threshold: ', threshold.value)\n",
    "    print('Month: ', str(month.value))\n",
    "    print('----------------------------------------')\n",
    "    img = im.open(filename)\n",
    "    fig = plt.figure()\n",
    "    fig.set_size_inches(14, 8, forward=True)\n",
    "    fig.suptitle(name.value + ' - ' + month.value + ' - '+ algo.value + ' - ' + threshold.value)\n",
    "    plt.imshow(img)\n",
    "    plt.show(img)"
   ]
  },
  {
   "cell_type": "markdown",
   "metadata": {},
   "source": [
    "#### The following code block displays animated SDM maps of the species over all the months for each algorithm/prediction threshold combination (upto 9 maximum).\n",
    "\n",
    "#### Note: No input required from the user. Code assumes the species to be the same from the GUI and displays all the animated SDM maps available for that particular species."
   ]
  },
  {
   "cell_type": "code",
   "execution_count": 4,
   "metadata": {},
   "outputs": [
    {
     "name": "stdout",
     "output_type": "stream",
     "text": [
      "----------------------------------------\n",
      "Species:  Papilio_glaucus\n",
      "----------------------------------------\n"
     ]
    },
    {
     "data": {
      "text/html": [
       "<img src=\"gifs/Papilio_glaucus-CTA-1.gif\" width=\"400\"/>"
      ],
      "text/plain": [
       "<IPython.core.display.Image object>"
      ]
     },
     "metadata": {},
     "output_type": "display_data"
    },
    {
     "data": {
      "text/html": [
       "<img src=\"gifs/Papilio_glaucus-CTA-10.gif\" width=\"400\"/>"
      ],
      "text/plain": [
       "<IPython.core.display.Image object>"
      ]
     },
     "metadata": {},
     "output_type": "display_data"
    },
    {
     "data": {
      "text/html": [
       "<img src=\"gifs/Papilio_glaucus-CTA-50.gif\" width=\"400\"/>"
      ],
      "text/plain": [
       "<IPython.core.display.Image object>"
      ]
     },
     "metadata": {},
     "output_type": "display_data"
    },
    {
     "data": {
      "text/html": [
       "<img src=\"gifs/Papilio_glaucus-GLM-1.gif\" width=\"400\"/>"
      ],
      "text/plain": [
       "<IPython.core.display.Image object>"
      ]
     },
     "metadata": {},
     "output_type": "display_data"
    },
    {
     "data": {
      "text/html": [
       "<img src=\"gifs/Papilio_glaucus-GLM-10.gif\" width=\"400\"/>"
      ],
      "text/plain": [
       "<IPython.core.display.Image object>"
      ]
     },
     "metadata": {},
     "output_type": "display_data"
    },
    {
     "data": {
      "text/html": [
       "<img src=\"gifs/Papilio_glaucus-GLM-50.gif\" width=\"400\"/>"
      ],
      "text/plain": [
       "<IPython.core.display.Image object>"
      ]
     },
     "metadata": {},
     "output_type": "display_data"
    },
    {
     "data": {
      "text/html": [
       "<img src=\"gifs/Papilio_glaucus-RF-1.gif\" width=\"400\"/>"
      ],
      "text/plain": [
       "<IPython.core.display.Image object>"
      ]
     },
     "metadata": {},
     "output_type": "display_data"
    },
    {
     "data": {
      "text/html": [
       "<img src=\"gifs/Papilio_glaucus-RF-10.gif\" width=\"400\"/>"
      ],
      "text/plain": [
       "<IPython.core.display.Image object>"
      ]
     },
     "metadata": {},
     "output_type": "display_data"
    },
    {
     "data": {
      "text/html": [
       "<img src=\"gifs/Papilio_glaucus-RF-50.gif\" width=\"400\"/>"
      ],
      "text/plain": [
       "<IPython.core.display.Image object>"
      ]
     },
     "metadata": {},
     "output_type": "display_data"
    }
   ],
   "source": [
    "# Initialize dicts for looping.\n",
    "\n",
    "months = ['jan', 'feb', 'mar', 'apr', 'may', 'jun', 'jul', 'aug', 'sep', 'oct', 'nov', 'dec', 'all']\n",
    "algos = [\"CTA\", \"GLM\", \"RF\"]\n",
    "thresholds = ['1', '10', '50']\n",
    "c = 0\n",
    "\n",
    "# Create 'gifs' directory if not already created.\n",
    "\n",
    "if not os.path.exists('gifs/'):\n",
    "    os.makedirs('gifs/')\n",
    "\n",
    "# Loop through SDM maps of a particular species to generate animated gifs of each possible algorithm/prediction threshold combination.\n",
    "\n",
    "for algo in algos:\n",
    "    for threshold  in thresholds:\n",
    "        images = []\n",
    "        for month in months:\n",
    "            filename = \"./SDMs/\" + name.value + \"/\" + month + \"/\" + algo + \"-\" + threshold + \".png\"\n",
    "            if os.path.isfile(filename):\n",
    "                img = im.open(filename)\n",
    "                draw = ImageDraw.Draw(img)\n",
    "                draw.rectangle(((0, 0), (250, 40)), fill=\"white\")\n",
    "                font = ImageFont.truetype(\"fonts/adventpro.ttf\", 16)\n",
    "                draw.text((15, 10),name.value.upper() + ' - ' + month.upper() + ' - ' + algo + ' - ' + threshold,(0,0,0),font=font)\n",
    "                img.save(filename)\n",
    "                images.append(imageio.imread(filename))\n",
    "        if len(images) > 0:\n",
    "            c = c+1\n",
    "            if c==1:\n",
    "                print('----------------------------------------')\n",
    "                print('Species: ', name.value)\n",
    "                print('----------------------------------------')\n",
    "            imageio.mimsave('gifs/' + name.value + '-' + algo + '-' + threshold + '.gif', images, duration=speed.value)\n",
    "            display(Image(url = 'gifs/' + name.value + '-' + algo + '-' + threshold + '.gif', width = 400))"
   ]
  },
  {
   "cell_type": "markdown",
   "metadata": {},
   "source": [
    "### Stack SDM DIsplay\n",
    "\n",
    "#### The output shows the expected biodiversity map of North American butterflies for a particular algorithm/prediction threshold combination.\n",
    "\n",
    "#### Usage: Enter algorithm and prediction threshold.\n",
    "\n",
    "#### Note: When the input values to the GUI are changed, there is no need to press Enter. Once the next cell is executed, the values in the GUI are registered and appropriately saved."
   ]
  },
  {
   "cell_type": "code",
   "execution_count": 5,
   "metadata": {},
   "outputs": [
    {
     "data": {
      "application/vnd.jupyter.widget-view+json": {
       "model_id": "0e312676ff44404fb42ce29b40ef014d",
       "version_major": 2,
       "version_minor": 0
      },
      "text/html": [
       "<p>Failed to display Jupyter Widget of type <code>Dropdown</code>.</p>\n",
       "<p>\n",
       "  If you're reading this message in the Jupyter Notebook or JupyterLab Notebook, it may mean\n",
       "  that the widgets JavaScript is still loading. If this message persists, it\n",
       "  likely means that the widgets JavaScript library is either not installed or\n",
       "  not enabled. See the <a href=\"https://ipywidgets.readthedocs.io/en/stable/user_install.html\">Jupyter\n",
       "  Widgets Documentation</a> for setup instructions.\n",
       "</p>\n",
       "<p>\n",
       "  If you're reading this message in another frontend (for example, a static\n",
       "  rendering on GitHub or <a href=\"https://nbviewer.jupyter.org/\">NBViewer</a>),\n",
       "  it may mean that your frontend doesn't currently support widgets.\n",
       "</p>\n"
      ],
      "text/plain": [
       "Dropdown(description='Algorithm: ', options=('CTA', 'GLM', 'RF'), style=DescriptionStyle(description_width='initial'), value='CTA')"
      ]
     },
     "metadata": {},
     "output_type": "display_data"
    },
    {
     "data": {
      "application/vnd.jupyter.widget-view+json": {
       "model_id": "072ac81d9f124a2288e1a9f2ee2df74d",
       "version_major": 2,
       "version_minor": 0
      },
      "text/html": [
       "<p>Failed to display Jupyter Widget of type <code>Dropdown</code>.</p>\n",
       "<p>\n",
       "  If you're reading this message in the Jupyter Notebook or JupyterLab Notebook, it may mean\n",
       "  that the widgets JavaScript is still loading. If this message persists, it\n",
       "  likely means that the widgets JavaScript library is either not installed or\n",
       "  not enabled. See the <a href=\"https://ipywidgets.readthedocs.io/en/stable/user_install.html\">Jupyter\n",
       "  Widgets Documentation</a> for setup instructions.\n",
       "</p>\n",
       "<p>\n",
       "  If you're reading this message in another frontend (for example, a static\n",
       "  rendering on GitHub or <a href=\"https://nbviewer.jupyter.org/\">NBViewer</a>),\n",
       "  it may mean that your frontend doesn't currently support widgets.\n",
       "</p>\n"
      ],
      "text/plain": [
       "Dropdown(description='Prediction Threshold: ', options=('1', '10', '50'), style=DescriptionStyle(description_width='initial'), value='1')"
      ]
     },
     "metadata": {},
     "output_type": "display_data"
    }
   ],
   "source": [
    "# Initialize elements of the stack SDM GUI.\n",
    "\n",
    "stack_algo = wg.Dropdown(options = [\"CTA\", \"GLM\", \"RF\"], description=\"Algorithm: \", style=style)\n",
    "stack_threshold = wg.Dropdown(options = ['1', '10', '50'], description=\"Prediction Threshold: \", style=style)\n",
    "\n",
    "# Display stack SDM GUI.\n",
    "\n",
    "display(stack_algo, stack_threshold)"
   ]
  },
  {
   "cell_type": "code",
   "execution_count": 6,
   "metadata": {},
   "outputs": [],
   "source": [
    "# Initialize the filename for each SDM.\n",
    "\n",
    "filename = \"./Stack/\" + stack_algo.value + \"-\" + stack_threshold.value + \".png\"\n",
    "\n",
    "# Check for file existence and then display the map (with a title).\n",
    "\n",
    "if os.path.isfile(filename):\n",
    "    print('----------------------------------------')\n",
    "    print('Algorithm: ', stack_algo.value)\n",
    "    print('Prediction Threshold: ', stack_threshold.value)\n",
    "    print('----------------------------------------')\n",
    "    img = im.open(filename)\n",
    "    fig = plt.figure()\n",
    "    fig.set_size_inches(14, 8, forward=True)\n",
    "    fig.suptitle(algo.value + threshold.value)\n",
    "    plt.imshow(img)\n",
    "    plt.show(img)"
   ]
  },
  {
   "cell_type": "code",
   "execution_count": null,
   "metadata": {},
   "outputs": [],
   "source": []
  }
 ],
 "metadata": {
  "kernelspec": {
   "display_name": "Python 3",
   "language": "python",
   "name": "python3"
  },
  "language_info": {
   "codemirror_mode": {
    "name": "ipython",
    "version": 3
   },
   "file_extension": ".py",
   "mimetype": "text/x-python",
   "name": "python",
   "nbconvert_exporter": "python",
   "pygments_lexer": "ipython3",
   "version": "3.6.0"
  }
 },
 "nbformat": 4,
 "nbformat_minor": 2
}
